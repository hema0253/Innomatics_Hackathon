{
 "cells": [
  {
   "cell_type": "code",
   "execution_count": 4,
   "id": "3c7cdcca",
   "metadata": {},
   "outputs": [
    {
     "name": "stdout",
     "output_type": "stream",
     "text": [
      "Merged DataFrame shape: (51717, 12)\n"
     ]
    },
    {
     "data": {
      "text/html": [
       "\n",
       "        <iframe\n",
       "            width=\"900\"\n",
       "            height=\"600\"\n",
       "            src=\"italian_restaurants.html\"\n",
       "            frameborder=\"0\"\n",
       "            allowfullscreen\n",
       "            \n",
       "        ></iframe>\n",
       "        "
      ],
      "text/plain": [
       "<IPython.lib.display.IFrame at 0x26693fcd480>"
      ]
     },
     "execution_count": 4,
     "metadata": {},
     "output_type": "execute_result"
    }
   ],
   "source": [
    "\n",
    "# %%\n",
    "# Imports\n",
    "import pandas as pd\n",
    "import numpy as np\n",
    "import folium\n",
    "from folium.plugins import MarkerCluster\n",
    "from IPython.display import IFrame\n",
    "\n",
    "# %%\n",
    "# Load datasets (ensure data1.csv and data2.csv are in the same folder)\n",
    "data1 = pd.read_csv('data1.csv')\n",
    "data2 = pd.read_csv('data2.csv')\n",
    "\n",
    "# %%\n",
    "# Data Cleaning & Preprocessing\n",
    "# 1. Clean 'rate' column, handling '-' and 'NEW'\n",
    "data1['rate'] = data1['rate'].replace({'-': pd.NA, 'NEW': pd.NA})\n",
    "data1['rate'] = data1['rate'].str.replace('/5', '', regex=False)\n",
    "data1['rate'] = pd.to_numeric(data1['rate'], errors='coerce')\n",
    "data1['rate'] = data1['rate'].fillna(data1['rate'].median())\n",
    "\n",
    "# 2. Clean 'approx_costfor_two_people'\n",
    "data1['approx_costfor_two_people'] = data1['approx_costfor_two_people'].astype(str).str.replace(',', '')\n",
    "data1['approx_costfor_two_people'] = pd.to_numeric(data1['approx_costfor_two_people'], errors='coerce')\n",
    "data1['approx_costfor_two_people'] = data1['approx_costfor_two_people'].fillna(data1['approx_costfor_two_people'].median())\n",
    "\n",
    "# 3. Fill missing text values\n",
    "data1['dish_liked'].fillna('Not Available', inplace=True)\n",
    "data1['cuisines'].fillna('Other', inplace=True)\n",
    "data1['rest_type'].fillna('Unknown', inplace=True)\n",
    "\n",
    "# 4. Fill and convert 'votes'\n",
    "data1['votes'] = data1['votes'].fillna(data1['votes'].median()).astype(int)\n",
    "\n",
    "# 5. Encode binary columns\n",
    "data1['online_order'] = data1['online_order'].map({'Yes': 1, 'No': 0})\n",
    "data1['book_table'] = data1['book_table'].map({'Yes': 1, 'No': 0})\n",
    "\n",
    "# %%\n",
    "# Merge with location data\n",
    "merged_df = pd.merge(data1, data2, on='listed_incity', how='left')\n",
    "\n",
    "# Confirm merge\n",
    "print(\"Merged DataFrame shape:\", merged_df.shape)\n",
    "\n",
    "# %%\n",
    "# 1) Restaurant Density Map - create and save as HTML\n",
    "blr_map = folium.Map(location=[12.9716, 77.5946], zoom_start=12)\n",
    "marker_cluster = MarkerCluster().add_to(blr_map)\n",
    "for _, row in merged_df.iterrows():\n",
    "    lat, lon = row['Latitude'], row['Longitude']\n",
    "    if pd.notnull(lat) and pd.notnull(lon):\n",
    "        folium.Marker(\n",
    "            location=[lat, lon],\n",
    "            popup=f\"{row['listed_incity']} | Rate: {row['rate']} | ₹{row['approx_costfor_two_people']}\",\n",
    "            tooltip=row['listed_incity']\n",
    "        ).add_to(marker_cluster)\n",
    "# Save and display\n",
    "blr_map.save('restaurant_density.html')\n",
    "IFrame('restaurant_density.html', width=900, height=600)\n",
    "\n",
    "# %%\n",
    "# 2) Italian Cuisine Map - filter, create, and save as HTML\n",
    "italian_df = merged_df[merged_df['cuisines'].str.contains('Italian', case=False, na=False)]\n",
    "italian_map = folium.Map(location=[12.9716, 77.5946], zoom_start=12)\n",
    "for _, row in italian_df.iterrows():\n",
    "    lat, lon = row['Latitude'], row['Longitude']\n",
    "    if pd.notnull(lat) and pd.notnull(lon):\n",
    "        folium.Marker(\n",
    "            location=[lat, lon],\n",
    "            popup=f\"{row['listed_incity']} | {row['cuisines']} | Rate: {row['rate']}\",\n",
    "            tooltip=row['listed_incity'],\n",
    "            icon=folium.Icon(color='purple')\n",
    "        ).add_to(italian_map)\n",
    "# Save and display\n",
    "italian_map.save('italian_restaurants.html')\n",
    "IFrame('italian_restaurants.html', width=900, height=600)\n"
   ]
  },
  {
   "cell_type": "code",
   "execution_count": null,
   "id": "f1bc169a",
   "metadata": {},
   "outputs": [],
   "source": []
  }
 ],
 "metadata": {
  "kernelspec": {
   "display_name": "Python 3 (ipykernel)",
   "language": "python",
   "name": "python3"
  },
  "language_info": {
   "codemirror_mode": {
    "name": "ipython",
    "version": 3
   },
   "file_extension": ".py",
   "mimetype": "text/x-python",
   "name": "python",
   "nbconvert_exporter": "python",
   "pygments_lexer": "ipython3",
   "version": "3.10.9"
  }
 },
 "nbformat": 4,
 "nbformat_minor": 5
}
