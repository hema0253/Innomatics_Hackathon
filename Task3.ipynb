{
 "cells": [
  {
   "cell_type": "code",
   "execution_count": 2,
   "id": "1ae47660",
   "metadata": {},
   "outputs": [
    {
     "data": {
      "text/html": [
       "\n",
       "        <iframe\n",
       "            width=\"900\"\n",
       "            height=\"600\"\n",
       "            src=\"restaurant_density.html\"\n",
       "            frameborder=\"0\"\n",
       "            allowfullscreen\n",
       "            \n",
       "        ></iframe>\n",
       "        "
      ],
      "text/plain": [
       "<IPython.lib.display.IFrame at 0x1e214560400>"
      ]
     },
     "execution_count": 2,
     "metadata": {},
     "output_type": "execute_result"
    }
   ],
   "source": [
    "# Interactive Restaurant Density Mapping – Self‑Contained Script\n",
    "\n",
    "# 1) Imports\n",
    "import pandas as pd\n",
    "import numpy as np\n",
    "import folium\n",
    "from folium.plugins import MarkerCluster\n",
    "from IPython.display import IFrame\n",
    "\n",
    "# 2) Load the datasets (ensure these CSVs are in your working directory)\n",
    "data1 = pd.read_csv('data1.csv')\n",
    "data2 = pd.read_csv('data2.csv')\n",
    "\n",
    "# 3) Clean & preprocess data1\n",
    "#   – Handle rate column (replace '-', 'NEW'; strip '/5'; convert to float; fill NaNs)\n",
    "data1['rate'] = (data1['rate']\n",
    "    .replace({'-': pd.NA, 'NEW': pd.NA})\n",
    "    .str.replace('/5','', regex=False))\n",
    "data1['rate'] = pd.to_numeric(data1['rate'], errors='coerce')\n",
    "data1['rate'] = data1['rate'].fillna(data1['rate'].median())\n",
    "\n",
    "#   – Handle cost column (remove commas; convert; fill NaNs)\n",
    "data1['approx_costfor_two_people'] = (data1['approx_costfor_two_people']\n",
    "    .astype(str)\n",
    "    .str.replace(',','', regex=False))\n",
    "data1['approx_costfor_two_people'] = pd.to_numeric(\n",
    "    data1['approx_costfor_two_people'], errors='coerce')\n",
    "data1['approx_costfor_two_people'] = data1['approx_costfor_two_people']\\\n",
    "    .fillna(data1['approx_costfor_two_people'].median())\n",
    "\n",
    "#   – Fill missing text fields\n",
    "data1['dish_liked'].fillna('Not Available', inplace=True)\n",
    "data1['cuisines'].fillna('Other',         inplace=True)\n",
    "data1['rest_type'].fillna('Unknown',      inplace=True)\n",
    "\n",
    "#   – Votes to int\n",
    "data1['votes'] = data1['votes'].fillna(data1['votes'].median()).astype(int)\n",
    "\n",
    "#   – Binary encode\n",
    "data1['online_order'] = data1['online_order'].map({'Yes':1,'No':0})\n",
    "data1['book_table']  = data1['book_table'].map({'Yes':1,'No':0})\n",
    "\n",
    "# 4) Merge with location data\n",
    "merged_df = pd.merge(data1, data2, on='listed_incity', how='left')\n",
    "\n",
    "# 5) Build the restaurant density map\n",
    "density_map = folium.Map(location=[12.9716, 77.5946], zoom_start=12)\n",
    "marker_cluster = MarkerCluster().add_to(density_map)\n",
    "\n",
    "for _, row in merged_df.iterrows():\n",
    "    lat, lon = row['Latitude'], row['Longitude']\n",
    "    if pd.notnull(lat) and pd.notnull(lon):\n",
    "        folium.Marker(\n",
    "            location=[lat, lon],\n",
    "            popup=(\n",
    "                f\"{row['listed_incity']}<br>\"\n",
    "                f\"Rating: {row['rate']}/5<br>\"\n",
    "                f\"Cost for Two: ₹{row['approx_costfor_two_people']}\"\n",
    "            ),\n",
    "            tooltip=row['listed_incity']\n",
    "        ).add_to(marker_cluster)\n",
    "\n",
    "# 6) Save and display the map\n",
    "density_map.save('restaurant_density.html')\n",
    "IFrame('restaurant_density.html', width=900, height=600)\n"
   ]
  },
  {
   "cell_type": "code",
   "execution_count": null,
   "id": "606cd955",
   "metadata": {},
   "outputs": [],
   "source": []
  }
 ],
 "metadata": {
  "kernelspec": {
   "display_name": "Python 3 (ipykernel)",
   "language": "python",
   "name": "python3"
  },
  "language_info": {
   "codemirror_mode": {
    "name": "ipython",
    "version": 3
   },
   "file_extension": ".py",
   "mimetype": "text/x-python",
   "name": "python",
   "nbconvert_exporter": "python",
   "pygments_lexer": "ipython3",
   "version": "3.10.9"
  }
 },
 "nbformat": 4,
 "nbformat_minor": 5
}
